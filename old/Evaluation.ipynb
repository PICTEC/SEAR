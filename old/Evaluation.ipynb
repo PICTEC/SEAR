{
 "cells": [
  {
   "cell_type": "code",
   "execution_count": 1,
   "metadata": {},
   "outputs": [],
   "source": [
    "import numpy as np\n",
    "import os\n",
    "\n",
    "DATASETPATH = \"/home/zantyr/.dataset\"\n",
    "\n",
    "model_path = \"./models/2019-04-05T14:44:45.154857.h5\"\n",
    "\n",
    "test_source = np.load(os.path.join(DATASETPATH, \"test_source.bin.npy\"))\n",
    "test_target = np.load(os.path.join(DATASETPATH, \"test_target.bin.npy\"))\n",
    "test_phase  = np.load(os.path.join(DATASETPATH, \"test_phase.bin.npy\"))"
   ]
  },
  {
   "cell_type": "code",
   "execution_count": 2,
   "metadata": {},
   "outputs": [
    {
     "name": "stderr",
     "output_type": "stream",
     "text": [
      "Using TensorFlow backend.\n"
     ]
    },
    {
     "name": "stdout",
     "output_type": "stream",
     "text": [
      "WARNING:tensorflow:From /usr/lib/python3.6/site-packages/tensorflow/python/ops/distributions/distribution.py:265: ReparameterizationType.__init__ (from tensorflow.python.ops.distributions.distribution) is deprecated and will be removed after 2019-01-01.\n",
      "Instructions for updating:\n",
      "The TensorFlow Distributions library has moved to TensorFlow Probability (https://github.com/tensorflow/probability). You should update all references to use `tfp.distributions` instead of `tf.distributions`.\n",
      "WARNING:tensorflow:From /usr/lib/python3.6/site-packages/tensorflow/python/ops/distributions/bernoulli.py:169: RegisterKL.__init__ (from tensorflow.python.ops.distributions.kullback_leibler) is deprecated and will be removed after 2019-01-01.\n",
      "Instructions for updating:\n",
      "The TensorFlow Distributions library has moved to TensorFlow Probability (https://github.com/tensorflow/probability). You should update all references to use `tfp.distributions` instead of `tf.distributions`.\n"
     ]
    }
   ],
   "source": [
    "import keras\n",
    "import tensorflow as tf\n",
    "model = keras.models.load_model(model_path, custom_objects={\"tf\": tf, \"MAX\": 26.937874})"
   ]
  },
  {
   "cell_type": "code",
   "execution_count": 3,
   "metadata": {},
   "outputs": [
    {
     "name": "stdout",
     "output_type": "stream",
     "text": [
      "0, 1, 2, 3, 4, 5, 6, 7, 8, 9, 10, 11, 12, 13, 14, 15, 16, 17, 18, 19, "
     ]
    }
   ],
   "source": [
    "predictions = np.zeros(test_target.shape, np.float32)\n",
    "for ix in range(test_source.shape[0]):\n",
    "    print(ix, end=\", \")\n",
    "    predictions[ix] = model.predict(test_source[ix:ix+1])[0]"
   ]
  },
  {
   "cell_type": "code",
   "execution_count": 4,
   "metadata": {
    "scrolled": true
   },
   "outputs": [
    {
     "name": "stdout",
     "output_type": "stream",
     "text": [
      "0\n",
      "1\n",
      "2\n",
      "3\n",
      "4\n",
      "5\n",
      "6\n",
      "7\n",
      "8\n",
      "9\n",
      "10\n",
      "11\n",
      "12\n",
      "13\n",
      "14\n",
      "15\n",
      "16\n",
      "17\n",
      "18\n",
      "19\n"
     ]
    }
   ],
   "source": [
    "import scipy.io.wavfile as sio\n",
    "import subprocess\n",
    "import tempfile\n",
    "import re\n",
    "\n",
    "def pesq(gt, pred, phase):\n",
    "    spec = (np.sqrt(np.exp(-gt)) * 512) * np.exp(phase * 1j)\n",
    "    sound = np.zeros(spec.shape[0] * 128 + 512 - 128)\n",
    "    for i in range(spec.shape[0]):\n",
    "        frame = np.zeros(257, np.complex)\n",
    "        frame[:257] = spec[i,:]\n",
    "        frame = np.fft.irfft(frame)\n",
    "        sound[128 * i : 128 * i + 512] += frame\n",
    "    spec = (np.sqrt(np.exp(-pred)) * 512) * np.exp(phase[:, :129] * 1j)\n",
    "    sound2 = np.zeros(spec.shape[0] * 128 + 512 - 128)\n",
    "    for i in range(spec.shape[0]):\n",
    "        frame = np.zeros(257, np.complex)\n",
    "        frame[:129] = spec[i,:]\n",
    "        frame = np.fft.irfft(frame)\n",
    "        sound2[128 * i : 128 * i + 512] += frame\n",
    "    fname_gt = tempfile.mktemp() + \".wav\"\n",
    "    fname_pred = tempfile.mktemp() + \".wav\"\n",
    "    sio.write(fname_gt, 16000, (2**15 * sound).astype(np.int16))\n",
    "    sio.write(fname_pred, 16000, (2**15 * sound2).astype(np.int16))\n",
    "    ot,e = subprocess.Popen([\"PESQ\", \"+wb\", \"+16000\", fname_gt, fname_pred], stdout = subprocess.PIPE, stderr = subprocess.PIPE).communicate()\n",
    "    os.remove(fname_gt)\n",
    "    os.remove(fname_pred)\n",
    "    o = ot.decode(\"utf-8\").split('\\n')[-2]\n",
    "    value = re.findall(\"= \\d\\.\\d+\", o)[0]\n",
    "    return float(value[2:])\n",
    "\n",
    "quality = []\n",
    "for i in range(test_target.shape[0]):\n",
    "    print(i)\n",
    "    try:\n",
    "        quality.append(pesq(test_target[i], test_source[i], test_phase[i]))\n",
    "    except IndexError:\n",
    "        print(\"Failed getting PESQ value for recording {}\".format(i))\n",
    "quality = np.array(quality)"
   ]
  },
  {
   "cell_type": "code",
   "execution_count": 5,
   "metadata": {},
   "outputs": [
    {
     "name": "stdout",
     "output_type": "stream",
     "text": [
      "Predicted by model:  1.3868 +- 0.3262864692260468\n"
     ]
    }
   ],
   "source": [
    "print(\"Predicted by model: \", quality.mean(), \"+-\", quality.std())"
   ]
  },
  {
   "cell_type": "code",
   "execution_count": null,
   "metadata": {},
   "outputs": [],
   "source": []
  }
 ],
 "metadata": {
  "kernelspec": {
   "display_name": "Python3.6",
   "language": "python",
   "name": "python3.6"
  },
  "language_info": {
   "codemirror_mode": {
    "name": "ipython",
    "version": 3
   },
   "file_extension": ".py",
   "mimetype": "text/x-python",
   "name": "python",
   "nbconvert_exporter": "python",
   "pygments_lexer": "ipython3",
   "version": "3.6.6"
  }
 },
 "nbformat": 4,
 "nbformat_minor": 2
}
