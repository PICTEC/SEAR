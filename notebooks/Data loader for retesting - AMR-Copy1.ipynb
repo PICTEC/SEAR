{
 "cells": [
  {
   "cell_type": "markdown",
   "metadata": {},
   "source": [
    "# Data testing"
   ]
  },
  {
   "cell_type": "markdown",
   "metadata": {},
   "source": [
    "##### Imports and initialization"
   ]
  },
  {
   "cell_type": "code",
   "execution_count": 4,
   "metadata": {
    "scrolled": true
   },
   "outputs": [
    {
     "name": "stdout",
     "output_type": "stream",
     "text": [
      "Switching to CPU only as GPU is busy or unavailable\n"
     ]
    },
    {
     "name": "stderr",
     "output_type": "stream",
     "text": [
      "Process ForkPoolWorker-14:\n",
      "Process ForkPoolWorker-11:\n",
      "Process ForkPoolWorker-17:\n",
      "KeyboardInterrupt\n",
      "Process ForkPoolWorker-12:\n",
      "Traceback (most recent call last):\n",
      "Process ForkPoolWorker-13:\n",
      "Traceback (most recent call last):\n",
      "Process ForkPoolWorker-18:\n",
      "Traceback (most recent call last):\n",
      "Process ForkPoolWorker-16:\n",
      "Process ForkPoolWorker-15:\n",
      "Traceback (most recent call last):\n",
      "  File \"/usr/lib/python3.6/site-packages/multiprocess/process.py\", line 249, in _bootstrap\n",
      "    self.run()\n",
      "  File \"/usr/lib/python3.6/site-packages/multiprocess/process.py\", line 249, in _bootstrap\n",
      "    self.run()\n",
      "  File \"/usr/lib/python3.6/site-packages/multiprocess/process.py\", line 93, in run\n",
      "    self._target(*self._args, **self._kwargs)\n",
      "  File \"/usr/lib/python3.6/site-packages/multiprocess/process.py\", line 93, in run\n",
      "    self._target(*self._args, **self._kwargs)\n",
      "Traceback (most recent call last):\n",
      "Traceback (most recent call last):\n",
      "  File \"/usr/lib/python3.6/site-packages/multiprocess/pool.py\", line 108, in worker\n",
      "    task = get()\n",
      "  File \"/usr/lib/python3.6/site-packages/multiprocess/process.py\", line 249, in _bootstrap\n",
      "    self.run()\n",
      "  File \"/usr/lib/python3.6/site-packages/multiprocess/process.py\", line 93, in run\n",
      "    self._target(*self._args, **self._kwargs)\n",
      "  File \"/usr/lib/python3.6/site-packages/multiprocess/process.py\", line 249, in _bootstrap\n",
      "    self.run()\n",
      "  File \"/usr/lib/python3.6/site-packages/multiprocess/pool.py\", line 108, in worker\n",
      "    task = get()\n",
      "  File \"/usr/lib/python3.6/site-packages/multiprocess/queues.py\", line 345, in get\n",
      "    with self._rlock:\n",
      "  File \"/usr/lib/python3.6/site-packages/multiprocess/synchronize.py\", line 102, in __enter__\n",
      "    return self._semlock.__enter__()\n",
      "  File \"/usr/lib/python3.6/site-packages/multiprocess/queues.py\", line 345, in get\n",
      "    with self._rlock:\n",
      "Traceback (most recent call last):\n",
      "Traceback (most recent call last):\n",
      "KeyboardInterrupt\n",
      "  File \"/usr/lib/python3.6/site-packages/multiprocess/process.py\", line 249, in _bootstrap\n",
      "    self.run()\n",
      "  File \"/usr/lib/python3.6/site-packages/multiprocess/process.py\", line 93, in run\n",
      "    self._target(*self._args, **self._kwargs)\n",
      "  File \"/usr/lib/python3.6/site-packages/multiprocess/process.py\", line 93, in run\n",
      "    self._target(*self._args, **self._kwargs)\n",
      "  File \"/usr/lib/python3.6/site-packages/multiprocess/process.py\", line 249, in _bootstrap\n",
      "    self.run()\n",
      "  File \"/usr/lib/python3.6/site-packages/multiprocess/process.py\", line 249, in _bootstrap\n",
      "    self.run()\n",
      "  File \"/usr/lib/python3.6/site-packages/multiprocess/pool.py\", line 108, in worker\n",
      "    task = get()\n",
      "  File \"/usr/lib/python3.6/site-packages/multiprocess/synchronize.py\", line 102, in __enter__\n",
      "    return self._semlock.__enter__()\n",
      "  File \"/usr/lib/python3.6/site-packages/multiprocess/pool.py\", line 108, in worker\n",
      "    task = get()\n",
      "  File \"/usr/lib/python3.6/site-packages/multiprocess/process.py\", line 93, in run\n",
      "    self._target(*self._args, **self._kwargs)\n",
      "  File \"/usr/lib/python3.6/site-packages/multiprocess/process.py\", line 93, in run\n",
      "    self._target(*self._args, **self._kwargs)\n",
      "KeyboardInterrupt\n",
      "  File \"/usr/lib/python3.6/site-packages/multiprocess/pool.py\", line 108, in worker\n",
      "    task = get()\n",
      "  File \"/usr/lib/python3.6/site-packages/multiprocess/queues.py\", line 346, in get\n",
      "    res = self._reader.recv_bytes()\n",
      "  File \"/usr/lib/python3.6/site-packages/multiprocess/process.py\", line 249, in _bootstrap\n",
      "    self.run()\n",
      "  File \"/usr/lib/python3.6/site-packages/multiprocess/queues.py\", line 345, in get\n",
      "    with self._rlock:\n",
      "  File \"/usr/lib/python3.6/site-packages/multiprocess/pool.py\", line 108, in worker\n",
      "    task = get()\n",
      "  File \"/usr/lib/python3.6/site-packages/multiprocess/process.py\", line 93, in run\n",
      "    self._target(*self._args, **self._kwargs)\n",
      "  File \"/usr/lib/python3.6/site-packages/multiprocess/queues.py\", line 345, in get\n",
      "    with self._rlock:\n",
      "  File \"/usr/lib/python3.6/site-packages/multiprocess/pool.py\", line 108, in worker\n",
      "    task = get()\n",
      "  File \"/usr/lib/python3.6/site-packages/multiprocess/queues.py\", line 345, in get\n",
      "    with self._rlock:\n",
      "  File \"/usr/lib/python3.6/site-packages/multiprocess/connection.py\", line 219, in recv_bytes\n",
      "    buf = self._recv_bytes(maxlength)\n",
      "  File \"/usr/lib/python3.6/site-packages/multiprocess/synchronize.py\", line 102, in __enter__\n",
      "    return self._semlock.__enter__()\n",
      "  File \"/usr/lib/python3.6/site-packages/multiprocess/synchronize.py\", line 102, in __enter__\n",
      "    return self._semlock.__enter__()\n",
      "  File \"/usr/lib/python3.6/site-packages/multiprocess/synchronize.py\", line 102, in __enter__\n",
      "    return self._semlock.__enter__()\n",
      "KeyboardInterrupt\n",
      "  File \"/usr/lib/python3.6/site-packages/multiprocess/pool.py\", line 108, in worker\n",
      "    task = get()\n",
      "  File \"/usr/lib/python3.6/site-packages/multiprocess/queues.py\", line 345, in get\n",
      "    with self._rlock:\n",
      "KeyboardInterrupt\n",
      "  File \"/usr/lib/python3.6/site-packages/multiprocess/queues.py\", line 345, in get\n",
      "    with self._rlock:\n",
      "  File \"/usr/lib/python3.6/site-packages/multiprocess/synchronize.py\", line 102, in __enter__\n",
      "    return self._semlock.__enter__()\n",
      "KeyboardInterrupt\n",
      "  File \"/usr/lib/python3.6/site-packages/multiprocess/connection.py\", line 410, in _recv_bytes\n",
      "    buf = self._recv(4)\n",
      "  File \"/usr/lib/python3.6/site-packages/multiprocess/synchronize.py\", line 102, in __enter__\n",
      "    return self._semlock.__enter__()\n",
      "KeyboardInterrupt\n",
      "  File \"/usr/lib/python3.6/site-packages/multiprocess/connection.py\", line 382, in _recv\n",
      "    chunk = read(handle, remaining)\n",
      "KeyboardInterrupt\n"
     ]
    }
   ],
   "source": [
    "%matplotlib inline\n",
    "\n",
    "import os,sys\n",
    "#path = os.path.realpath(os.path.join(os.getcwd(), \"..\"))\n",
    "path = \"/home/zantyr/Denoising\"\n",
    "sys.path.append(path)\n",
    "os.chdir(path)\n",
    "\n",
    "import matplotlib.pyplot as plt\n",
    "import numpy as np\n",
    "import pickle\n",
    "import scipy.io.wavfile as sio\n",
    "import tempfile\n",
    "\n",
    "from IPython.display import Image, Audio, display\n",
    "\n",
    "import keras\n",
    "from keras.utils.vis_utils import plot_model\n",
    "from keras.layers         import Dropout, Input, Conv1D, Conv2D, AveragePooling2D, Flatten, Dense, Deconv2D, UpSampling2D, concatenate, BatchNormalization, Lambda, LeakyReLU, TimeDistributed, Reshape, LSTM, GaussianNoise\n",
    "from keras.models         import Model\n",
    "from keras.datasets.mnist import load_data\n",
    "from keras.utils          import to_categorical\n",
    "from keras.initializers   import Orthogonal\n",
    "from keras.regularizers   import L1L2, l2\n",
    "from keras.callbacks      import Callback\n",
    "import keras.backend as K\n",
    "import tensorflow as tf\n",
    "\n",
    "import loaders\n",
    "from loaders.transform import AddGaussianNoise, Windowing, GSMize, MixReverb, MixNoise, ConstantQTransform, Transcript, LengthOfWindow, Length, Lengthen, Null, DivisiblePad\n",
    "from loaders.dataset import Dataset, enable_multiprocessing, disable_multiprocessing\n",
    "from loaders.feature import NormalizedLogPowerRFFT, Trim\n",
    "from loaders.experiment import SingleExperiment\n",
    "from loaders.measures import MSE\n",
    "from loaders.schedule import Schedule\n",
    "from loaders.estimator import DefaultVisualizeTransform, Estimator\n",
    "from loaders.extras import LossHistory, set_device, delog_griffin_lim, get_stft\n",
    "from loaders.custom import identity_loss\n",
    "set_device()               # switches to CPU if GPU busy\n",
    "enable_multiprocessing()   # for faster preprocessing of data (multicore)"
   ]
  },
  {
   "cell_type": "markdown",
   "metadata": {},
   "source": [
    "##### Data loading"
   ]
  },
  {
   "cell_type": "code",
   "execution_count": 8,
   "metadata": {
    "scrolled": true
   },
   "outputs": [
    {
     "name": "stdout",
     "output_type": "stream",
     "text": [
      "0\n",
      "/tmp/tmpxfj29kxv.amr-nb\n",
      "1\n",
      "/tmp/tmp4dz_x3sl.amr-nb\n",
      "2\n",
      "/tmp/tmpx5key7p8.amr-nb\n",
      "3\n",
      "/tmp/tmp9hdt6e_z.amr-nb\n",
      "4\n",
      "/tmp/tmplxksoq9l.amr-nb\n",
      "5\n",
      "/tmp/tmpcdurf4wg.amr-nb\n",
      "6\n",
      "/tmp/tmpuzn8zsle.amr-nb\n",
      "7\n",
      "/tmp/tmp35as6nig.amr-nb\n",
      "8\n",
      "/tmp/tmpe03r74kn.amr-nb\n",
      "9\n",
      "/tmp/tmpy0uexoaz.amr-nb\n",
      "10\n",
      "/tmp/tmpxretmik6.amr-nb\n",
      "11\n",
      "/tmp/tmpdvxifac_.amr-nb\n",
      "12\n",
      "/tmp/tmpv99jpone.amr-nb\n",
      "13\n",
      "/tmp/tmp2ou9l_12.amr-nb\n",
      "14\n",
      "/tmp/tmp00cxg5n8.amr-nb\n",
      "15\n",
      "/tmp/tmpmb5bg60k.amr-nb\n",
      "16\n",
      "/tmp/tmp7zpw5rko.amr-nb\n",
      "17\n",
      "/tmp/tmp06oyspgx.amr-nb\n",
      "18\n"
     ]
    },
    {
     "ename": "KeyboardInterrupt",
     "evalue": "",
     "output_type": "error",
     "traceback": [
      "\u001b[0;31m---------------------------------------------------------------------------\u001b[0m",
      "\u001b[0;31mKeyboardInterrupt\u001b[0m                         Traceback (most recent call last)",
      "\u001b[0;32m<ipython-input-8-c9f7c7eb479c>\u001b[0m in \u001b[0;36m<module>\u001b[0;34m\u001b[0m\n\u001b[1;32m     36\u001b[0m     \u001b[0mnewname\u001b[0m \u001b[0;34m=\u001b[0m \u001b[0mdataset\u001b[0m\u001b[0;34m.\u001b[0m\u001b[0mroot\u001b[0m \u001b[0;34m+\u001b[0m \u001b[0;34m\"/\"\u001b[0m \u001b[0;34m+\u001b[0m \u001b[0mfile\u001b[0m \u001b[0;34m+\u001b[0m \u001b[0;34m\".gsm.wav\"\u001b[0m\u001b[0;34m\u001b[0m\u001b[0m\n\u001b[1;32m     37\u001b[0m     \u001b[0msubprocess\u001b[0m\u001b[0;34m.\u001b[0m\u001b[0mPopen\u001b[0m\u001b[0;34m(\u001b[0m\u001b[0;34m[\u001b[0m\u001b[0;34m'sox'\u001b[0m\u001b[0;34m,\u001b[0m \u001b[0moldname\u001b[0m\u001b[0;34m,\u001b[0m \u001b[0;34m'-C'\u001b[0m\u001b[0;34m,\u001b[0m \u001b[0;34m'0'\u001b[0m\u001b[0;34m,\u001b[0m \u001b[0;34m'-r'\u001b[0m\u001b[0;34m,\u001b[0m \u001b[0;34m'8000'\u001b[0m\u001b[0;34m,\u001b[0m \u001b[0mtmpname\u001b[0m\u001b[0;34m]\u001b[0m\u001b[0;34m)\u001b[0m\u001b[0;34m.\u001b[0m\u001b[0mcommunicate\u001b[0m\u001b[0;34m(\u001b[0m\u001b[0;34m)\u001b[0m\u001b[0;34m\u001b[0m\u001b[0m\n\u001b[0;32m---> 38\u001b[0;31m     \u001b[0msubprocess\u001b[0m\u001b[0;34m.\u001b[0m\u001b[0mPopen\u001b[0m\u001b[0;34m(\u001b[0m\u001b[0;34m[\u001b[0m\u001b[0;34m'sox'\u001b[0m\u001b[0;34m,\u001b[0m \u001b[0mtmpname\u001b[0m\u001b[0;34m,\u001b[0m \u001b[0;34m'-r'\u001b[0m\u001b[0;34m,\u001b[0m \u001b[0;34m'16000'\u001b[0m\u001b[0;34m,\u001b[0m \u001b[0;34m\"-e\"\u001b[0m\u001b[0;34m,\u001b[0m \u001b[0;34m\"signed\"\u001b[0m\u001b[0;34m,\u001b[0m \u001b[0;34m'-b'\u001b[0m\u001b[0;34m,\u001b[0m \u001b[0;34m'16'\u001b[0m\u001b[0;34m,\u001b[0m  \u001b[0mnewname\u001b[0m\u001b[0;34m]\u001b[0m\u001b[0;34m)\u001b[0m\u001b[0;34m.\u001b[0m\u001b[0mcommunicate\u001b[0m\u001b[0;34m(\u001b[0m\u001b[0;34m)\u001b[0m\u001b[0;34m\u001b[0m\u001b[0m\n\u001b[0m\u001b[1;32m     39\u001b[0m     \u001b[0mprint\u001b[0m\u001b[0;34m(\u001b[0m\u001b[0mtmpname\u001b[0m\u001b[0;34m)\u001b[0m\u001b[0;34m\u001b[0m\u001b[0m\n",
      "\u001b[0;32m/usr/lib/python3.6/subprocess.py\u001b[0m in \u001b[0;36m__init__\u001b[0;34m(self, args, bufsize, executable, stdin, stdout, stderr, preexec_fn, close_fds, shell, cwd, env, universal_newlines, startupinfo, creationflags, restore_signals, start_new_session, pass_fds, encoding, errors)\u001b[0m\n\u001b[1;32m    707\u001b[0m                                 \u001b[0mc2pread\u001b[0m\u001b[0;34m,\u001b[0m \u001b[0mc2pwrite\u001b[0m\u001b[0;34m,\u001b[0m\u001b[0;34m\u001b[0m\u001b[0m\n\u001b[1;32m    708\u001b[0m                                 \u001b[0merrread\u001b[0m\u001b[0;34m,\u001b[0m \u001b[0merrwrite\u001b[0m\u001b[0;34m,\u001b[0m\u001b[0;34m\u001b[0m\u001b[0m\n\u001b[0;32m--> 709\u001b[0;31m                                 restore_signals, start_new_session)\n\u001b[0m\u001b[1;32m    710\u001b[0m         \u001b[0;32mexcept\u001b[0m\u001b[0;34m:\u001b[0m\u001b[0;34m\u001b[0m\u001b[0m\n\u001b[1;32m    711\u001b[0m             \u001b[0;31m# Cleanup if the child failed starting.\u001b[0m\u001b[0;34m\u001b[0m\u001b[0;34m\u001b[0m\u001b[0m\n",
      "\u001b[0;32m/usr/lib/python3.6/subprocess.py\u001b[0m in \u001b[0;36m_execute_child\u001b[0;34m(self, args, executable, preexec_fn, close_fds, pass_fds, cwd, env, startupinfo, creationflags, shell, p2cread, p2cwrite, c2pread, c2pwrite, errread, errwrite, restore_signals, start_new_session)\u001b[0m\n\u001b[1;32m   1296\u001b[0m                 \u001b[0merrpipe_data\u001b[0m \u001b[0;34m=\u001b[0m \u001b[0mbytearray\u001b[0m\u001b[0;34m(\u001b[0m\u001b[0;34m)\u001b[0m\u001b[0;34m\u001b[0m\u001b[0m\n\u001b[1;32m   1297\u001b[0m                 \u001b[0;32mwhile\u001b[0m \u001b[0;32mTrue\u001b[0m\u001b[0;34m:\u001b[0m\u001b[0;34m\u001b[0m\u001b[0m\n\u001b[0;32m-> 1298\u001b[0;31m                     \u001b[0mpart\u001b[0m \u001b[0;34m=\u001b[0m \u001b[0mos\u001b[0m\u001b[0;34m.\u001b[0m\u001b[0mread\u001b[0m\u001b[0;34m(\u001b[0m\u001b[0merrpipe_read\u001b[0m\u001b[0;34m,\u001b[0m \u001b[0;36m50000\u001b[0m\u001b[0;34m)\u001b[0m\u001b[0;34m\u001b[0m\u001b[0m\n\u001b[0m\u001b[1;32m   1299\u001b[0m                     \u001b[0merrpipe_data\u001b[0m \u001b[0;34m+=\u001b[0m \u001b[0mpart\u001b[0m\u001b[0;34m\u001b[0m\u001b[0m\n\u001b[1;32m   1300\u001b[0m                     \u001b[0;32mif\u001b[0m \u001b[0;32mnot\u001b[0m \u001b[0mpart\u001b[0m \u001b[0;32mor\u001b[0m \u001b[0mlen\u001b[0m\u001b[0;34m(\u001b[0m\u001b[0merrpipe_data\u001b[0m\u001b[0;34m)\u001b[0m \u001b[0;34m>\u001b[0m \u001b[0;36m50000\u001b[0m\u001b[0;34m:\u001b[0m\u001b[0;34m\u001b[0m\u001b[0m\n",
      "\u001b[0;31mKeyboardInterrupt\u001b[0m: "
     ]
    }
   ],
   "source": [
    "TRAIN = 9000\n",
    "VALID = 80\n",
    "TEST = 80\n",
    "\n",
    "import numpy as np\n",
    "import scipy.io.wavfile as sio\n",
    "import gc\n",
    "\n",
    "import tempfile\n",
    "import subprocess\n",
    "\n",
    "tempnam = tempfile.mktemp\n",
    "\n",
    "log_fft_source = log_fft_target = phase = train = test = valid = experiment = None\n",
    "gc.collect()\n",
    "\n",
    "dataset = Dataset.from_folder(\"DAE-libri\",\n",
    "                              verbose = False,\n",
    "                              dataset_pad = 8,\n",
    "                              trim_lengths = 160000,\n",
    "                              cache = \"cache\",\n",
    "                              ram_cache_size = None,\n",
    "                              filter=lambda x:x.endswith(\".wav\") and not x.endswith(\".gsm.wav\"))\n",
    "\n",
    "\n",
    "log_fft_source = np.zeros([TEST, 1248, 129], np.float32)\n",
    "log_fft_target = np.zeros([TEST, 1248, 257], np.float32)\n",
    "phase = np.zeros([TEST, 1248, 129], np.float32)\n",
    "\n",
    "for ix, file in enumerate(dataset.files):\n",
    "    print(ix)\n",
    "    data = sio.read(dataset.root + \"/\" + file)[1] # .astype(np.float32) to generate noise in the experiment...\n",
    "    oldname = tempnam() + '.oldwav'\n",
    "    sio.write(oldname, 16000, data)\n",
    "    tmpname = tempnam() + '.amr-nb'\n",
    "    newname = dataset.root + \"/\" + file + \".gsm.wav\"\n",
    "    subprocess.Popen(['sox', oldname, '-C', '0', '-r', '8000', tmpname]).communicate()\n",
    "    subprocess.Popen(['sox', tmpname, '-r', '16000', \"-e\", \"signed\", '-b', '16',  newname]).communicate()\n",
    "    print(tmpname)\n"
   ]
  },
  {
   "cell_type": "code",
   "execution_count": 3,
   "metadata": {},
   "outputs": [
    {
     "name": "stdout",
     "output_type": "stream",
     "text": [
      "0.0 4.188281\n"
     ]
    }
   ],
   "source": [
    "MEAN = 0 # min([log_fft_source.min(), log_fft_target.min()])\n",
    "# mean = log_fft_source.mean()\n",
    "#log_fft_source -= MEAN\n",
    "#log_fft_target -= MEAN\n",
    "# STD = []\n",
    "# for i in range(log_fft_source.shape[0]):\n",
    "#     rec = (log_fft_source[i] - mean) ** 2\n",
    "#     STD.append(rec.mean())\n",
    "# STD = np.sqrt(np.array(STD).mean())\n",
    "STD = log_fft_source.max() / 4.188281\n",
    "\n",
    "log_fft_source /= STD\n",
    "log_fft_target /= STD\n",
    "print(log_fft_source.min(), log_fft_source.max())"
   ]
  },
  {
   "cell_type": "code",
   "execution_count": 4,
   "metadata": {},
   "outputs": [],
   "source": [
    "test = log_fft_source[:,:,:129], log_fft_target[:]"
   ]
  },
  {
   "cell_type": "code",
   "execution_count": 5,
   "metadata": {},
   "outputs": [],
   "source": [
    "with open(\"/tmp/test_data.bin\", \"wb\") as f:\n",
    "    pickle.dump((test, phase), f)\n",
    "    \n",
    "with open(\"/tmp/data_norm.bin\", \"wb\") as f:\n",
    "    pickle.dump((MEAN, STD), f)"
   ]
  },
  {
   "cell_type": "code",
   "execution_count": null,
   "metadata": {},
   "outputs": [],
   "source": []
  },
  {
   "cell_type": "code",
   "execution_count": null,
   "metadata": {},
   "outputs": [],
   "source": [
    "# How to normalize\n",
    "\n",
    "\"\"\"\n",
    "Check how it differentiates with normalization\n",
    "How does signal differentiates by normalization?\n",
    "\"\"\""
   ]
  }
 ],
 "metadata": {
  "kernelspec": {
   "display_name": "Python3.6",
   "language": "python",
   "name": "python3.6"
  },
  "language_info": {
   "codemirror_mode": {
    "name": "ipython",
    "version": 3
   },
   "file_extension": ".py",
   "mimetype": "text/x-python",
   "name": "python",
   "nbconvert_exporter": "python",
   "pygments_lexer": "ipython3",
   "version": "3.6.6"
  }
 },
 "nbformat": 4,
 "nbformat_minor": 2
}
